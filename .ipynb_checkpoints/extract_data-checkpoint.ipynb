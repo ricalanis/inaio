{
 "cells": [
  {
   "cell_type": "code",
   "execution_count": 32,
   "metadata": {},
   "outputs": [],
   "source": [
    "import pickle\n",
    "import html\n",
    "import unidecode\n",
    "import re\n"
   ]
  },
  {
   "cell_type": "code",
   "execution_count": 4,
   "metadata": {},
   "outputs": [],
   "source": [
    "request_data = pickle.load(open('data/requests.pl', 'rb'))"
   ]
  },
  {
   "cell_type": "code",
   "execution_count": 60,
   "metadata": {},
   "outputs": [],
   "source": [
    "def get_month_year(date_str): return date_str.split('/')"
   ]
  },
  {
   "cell_type": "code",
   "execution_count": 97,
   "metadata": {},
   "outputs": [],
   "source": [
    "def get_request_data(r_data):\n",
    "    r_data_day, r_data_month, r_data_year =  get_month_year(r_data['fechaEnvio'])\n",
    "    return {\n",
    "        'state': r_data['nombreOrganoGarante'].title(),\n",
    "        'subject': r_data['nombreSujetoObligado'].title(),\n",
    "        'date': r_data['fechaEnvio'],\n",
    "        'month': r_data_month,\n",
    "        'year': r_data_year,\n",
    "        'month-year': r_data_month+'-'+r_data_year,\n",
    "        'request': clean_text_string(r_data['descripcionSolicitud']),\n",
    "        'response_type': r_data['tipoRespuesta']\n",
    "    }"
   ]
  },
  {
   "cell_type": "code",
   "execution_count": 98,
   "metadata": {},
   "outputs": [],
   "source": [
    "def remove_html_tags(text):\n",
    "    \"\"\"Remove html tags from a string\"\"\"\n",
    "    import re\n",
    "    clean = re.compile('<.*?>')\n",
    "    return re.sub(clean, '', text)"
   ]
  },
  {
   "cell_type": "code",
   "execution_count": 99,
   "metadata": {},
   "outputs": [],
   "source": [
    "def clean_text_string(text_string):\n",
    "    text_string = html.unescape(text_string)\n",
    "    text_string = remove_html_tags(text_string)\n",
    "    text_string = text_string.lower()\n",
    "    text_string = unidecode.unidecode(text_string)\n",
    "    text_string = ''.join(e for e in text_string if e.isalnum() or e==' ')\n",
    "    text_string = re.sub(' +', ' ', text_string)\n",
    "    return text_string"
   ]
  },
  {
   "cell_type": "code",
   "execution_count": 100,
   "metadata": {},
   "outputs": [],
   "source": [
    "def get_page_data(page_data):\n",
    "    output_data = []\n",
    "    requests_data = page_data['solicitudes']\n",
    "    for req_data in requests_data:\n",
    "        output_data.append(get_request_data(req_data))\n",
    "    return output_data"
   ]
  },
  {
   "cell_type": "code",
   "execution_count": 101,
   "metadata": {},
   "outputs": [],
   "source": [
    "clean_data = []\n",
    "for page_d in request_data:\n",
    "    clean_data = clean_data+get_page_data(page_d)"
   ]
  },
  {
   "cell_type": "code",
   "execution_count": 102,
   "metadata": {},
   "outputs": [],
   "source": [
    "import pandas as pd"
   ]
  },
  {
   "cell_type": "code",
   "execution_count": 104,
   "metadata": {},
   "outputs": [
    {
     "data": {
      "text/plain": [
       "{'state': 'Coahuila',\n",
       " 'subject': 'Fiscalía General De Justicia Del Estado De Coahuila',\n",
       " 'date': '09/03/2020',\n",
       " 'month': '03',\n",
       " 'year': '2020',\n",
       " 'month-year': '03-2020',\n",
       " 'request': 'segun el reglamento de la ley en materia de trata la procuraduria general de justicia del estado elaboraran un programa de capacitacion y retroalimentacion respecto a la prevencion tienen dicho programa nos lo podrian facillitar programa de los anos 2017 2018 y 2019',\n",
       " 'response_type': 'F. Información disponible vía Infomex'}"
      ]
     },
     "execution_count": 104,
     "metadata": {},
     "output_type": "execute_result"
    }
   ],
   "source": [
    "clean_data[10]"
   ]
  },
  {
   "cell_type": "code",
   "execution_count": 105,
   "metadata": {},
   "outputs": [],
   "source": [
    "pickle.dump(clean_data, open('data/clean_data.pl', 'wb'))"
   ]
  },
  {
   "cell_type": "code",
   "execution_count": 106,
   "metadata": {},
   "outputs": [
    {
     "data": {
      "text/plain": [
       "Entrega de información en medio electrónico                         16824\n",
       "C. Entrega información vía Infomex                                   6287\n",
       "F. Entrega información vía Infomex                                   4308\n",
       "F. Información disponible vía Infomex                                3030\n",
       "A. La solicitud corresponde a otro ente                              2940\n",
       "                                                                    ...  \n",
       "C. La información solicitada no existe                                  1\n",
       "G. Negativa por ser información reservada                               1\n",
       "G.  Negativa por ser reservada.                                         1\n",
       "J. Información confidencial                                             1\n",
       "Solicitud que no cumple con los requisitos notificada (Art. 155)        1\n",
       "Name: response_type, Length: 108, dtype: int64"
      ]
     },
     "execution_count": 106,
     "metadata": {},
     "output_type": "execute_result"
    }
   ],
   "source": [
    "pd.DataFrame(clean_data)['response_type'].value_counts()"
   ]
  },
  {
   "cell_type": "code",
   "execution_count": 107,
   "metadata": {},
   "outputs": [],
   "source": [
    "clean_data_df = pd.DataFrame(clean_data)"
   ]
  },
  {
   "cell_type": "code",
   "execution_count": 108,
   "metadata": {},
   "outputs": [
    {
     "data": {
      "text/plain": [
       "state                                                     Veracruz\n",
       "subject                       Ayuntamiento De Poza Rica De Hidalgo\n",
       "date                                                    08/10/2020\n",
       "month                                                           10\n",
       "year                                                          2020\n",
       "month-year                                                 10-2020\n",
       "request          solicito un listado con la descripcion y los m...\n",
       "response_type                               Entrega de Información\n",
       "Name: 0, dtype: object"
      ]
     },
     "execution_count": 108,
     "metadata": {},
     "output_type": "execute_result"
    }
   ],
   "source": [
    "clean_data_df.iloc[0]"
   ]
  },
  {
   "cell_type": "code",
   "execution_count": 109,
   "metadata": {},
   "outputs": [
    {
     "data": {
      "text/plain": [
       "58646"
      ]
     },
     "execution_count": 109,
     "metadata": {},
     "output_type": "execute_result"
    }
   ],
   "source": [
    "len(clean_data)"
   ]
  },
  {
   "cell_type": "code",
   "execution_count": 116,
   "metadata": {},
   "outputs": [],
   "source": [
    "import json\n",
    "json.dump(clean_data, open('data/clean_data.json', 'w'))"
   ]
  },
  {
   "cell_type": "code",
   "execution_count": null,
   "metadata": {},
   "outputs": [],
   "source": []
  }
 ],
 "metadata": {
  "kernelspec": {
   "display_name": "Python 3",
   "language": "python",
   "name": "python3"
  },
  "language_info": {
   "codemirror_mode": {
    "name": "ipython",
    "version": 3
   },
   "file_extension": ".py",
   "mimetype": "text/x-python",
   "name": "python",
   "nbconvert_exporter": "python",
   "pygments_lexer": "ipython3",
   "version": "3.7.3"
  }
 },
 "nbformat": 4,
 "nbformat_minor": 2
}
